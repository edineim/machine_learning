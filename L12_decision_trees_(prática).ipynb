{
  "nbformat": 4,
  "nbformat_minor": 0,
  "metadata": {
    "colab": {
      "name": "L12_decision trees (prática)",
      "provenance": [],
      "authorship_tag": "ABX9TyO/aXXdzlk/zCOPrMsk8qmd",
      "include_colab_link": true
    },
    "kernelspec": {
      "name": "python3",
      "display_name": "Python 3"
    },
    "language_info": {
      "name": "python"
    }
  },
  "cells": [
    {
      "cell_type": "markdown",
      "metadata": {
        "id": "view-in-github",
        "colab_type": "text"
      },
      "source": [
        "<a href=\"https://colab.research.google.com/github/edineim/machine_learning/blob/main/L12_decision_trees_(pr%C3%A1tica).ipynb\" target=\"_parent\"><img src=\"https://colab.research.google.com/assets/colab-badge.svg\" alt=\"Open In Colab\"/></a>"
      ]
    },
    {
      "cell_type": "code",
      "execution_count": null,
      "metadata": {
        "id": "6dh7YYqZFONZ"
      },
      "outputs": [],
      "source": [
        "import pandas as pd\n",
        "import numpy as np\n",
        "from sklearn.pipeline import Pipeline\n",
        "from sklearn.decomposition import PCA\n",
        "from sklearn.model_selection import GridSearchCV\n",
        "from sklearn.model_selection import LeaveOneOut \n",
        "from sklearn.preprocessing import StandardScaler\n",
        "from sklearn.tree import DecisionTreeClassifier\n",
        "from sklearn.pipeline import make_pipeline\n",
        "from sklearn.model_selection import train_test_split\n",
        "from sklearn.metrics import accuracy_score\n",
        "from mlxtend.plotting import plot_decision_regions"
      ]
    },
    {
      "cell_type": "code",
      "source": [
        "from google.colab import drive\n",
        "drive.mount('/content/drive')\n",
        "df = pd.read_csv('/content/drive/MyDrive/Aprendizado de Máquina/Atividades/EX-L05_manual-pipeline/date.csv')\n",
        "df.head()"
      ],
      "metadata": {
        "colab": {
          "base_uri": "https://localhost:8080/",
          "height": 224
        },
        "id": "6EJwIX3JFcSn",
        "outputId": "388d84b3-b8d9-48cc-d1b6-8346abf8b34a"
      },
      "execution_count": null,
      "outputs": [
        {
          "output_type": "stream",
          "name": "stdout",
          "text": [
            "Drive already mounted at /content/drive; to attempt to forcibly remount, call drive.mount(\"/content/drive\", force_remount=True).\n"
          ]
        },
        {
          "output_type": "execute_result",
          "data": {
            "text/plain": [
              "   Id  Nascimento  MP  Gols  Assis.  G-PB  PB  PT  CrtsA  CrtV Pos.\n",
              "0   1        1990  29     8       7     8   0   1      7     1   AT\n",
              "1   2        1993  28    12       5    10   2   2      3     0   AT\n",
              "2   3        1996  28     8       8     8   0   0      3     0   AT\n",
              "3   4        1991  28     6       3     5   1   1      9     2   AT\n",
              "4   5        1990  28     8       2     5   3   3      4     0   AT"
            ],
            "text/html": [
              "\n",
              "  <div id=\"df-e4aaf74f-5705-40a1-aabc-d58f012ad92d\">\n",
              "    <div class=\"colab-df-container\">\n",
              "      <div>\n",
              "<style scoped>\n",
              "    .dataframe tbody tr th:only-of-type {\n",
              "        vertical-align: middle;\n",
              "    }\n",
              "\n",
              "    .dataframe tbody tr th {\n",
              "        vertical-align: top;\n",
              "    }\n",
              "\n",
              "    .dataframe thead th {\n",
              "        text-align: right;\n",
              "    }\n",
              "</style>\n",
              "<table border=\"1\" class=\"dataframe\">\n",
              "  <thead>\n",
              "    <tr style=\"text-align: right;\">\n",
              "      <th></th>\n",
              "      <th>Id</th>\n",
              "      <th>Nascimento</th>\n",
              "      <th>MP</th>\n",
              "      <th>Gols</th>\n",
              "      <th>Assis.</th>\n",
              "      <th>G-PB</th>\n",
              "      <th>PB</th>\n",
              "      <th>PT</th>\n",
              "      <th>CrtsA</th>\n",
              "      <th>CrtV</th>\n",
              "      <th>Pos.</th>\n",
              "    </tr>\n",
              "  </thead>\n",
              "  <tbody>\n",
              "    <tr>\n",
              "      <th>0</th>\n",
              "      <td>1</td>\n",
              "      <td>1990</td>\n",
              "      <td>29</td>\n",
              "      <td>8</td>\n",
              "      <td>7</td>\n",
              "      <td>8</td>\n",
              "      <td>0</td>\n",
              "      <td>1</td>\n",
              "      <td>7</td>\n",
              "      <td>1</td>\n",
              "      <td>AT</td>\n",
              "    </tr>\n",
              "    <tr>\n",
              "      <th>1</th>\n",
              "      <td>2</td>\n",
              "      <td>1993</td>\n",
              "      <td>28</td>\n",
              "      <td>12</td>\n",
              "      <td>5</td>\n",
              "      <td>10</td>\n",
              "      <td>2</td>\n",
              "      <td>2</td>\n",
              "      <td>3</td>\n",
              "      <td>0</td>\n",
              "      <td>AT</td>\n",
              "    </tr>\n",
              "    <tr>\n",
              "      <th>2</th>\n",
              "      <td>3</td>\n",
              "      <td>1996</td>\n",
              "      <td>28</td>\n",
              "      <td>8</td>\n",
              "      <td>8</td>\n",
              "      <td>8</td>\n",
              "      <td>0</td>\n",
              "      <td>0</td>\n",
              "      <td>3</td>\n",
              "      <td>0</td>\n",
              "      <td>AT</td>\n",
              "    </tr>\n",
              "    <tr>\n",
              "      <th>3</th>\n",
              "      <td>4</td>\n",
              "      <td>1991</td>\n",
              "      <td>28</td>\n",
              "      <td>6</td>\n",
              "      <td>3</td>\n",
              "      <td>5</td>\n",
              "      <td>1</td>\n",
              "      <td>1</td>\n",
              "      <td>9</td>\n",
              "      <td>2</td>\n",
              "      <td>AT</td>\n",
              "    </tr>\n",
              "    <tr>\n",
              "      <th>4</th>\n",
              "      <td>5</td>\n",
              "      <td>1990</td>\n",
              "      <td>28</td>\n",
              "      <td>8</td>\n",
              "      <td>2</td>\n",
              "      <td>5</td>\n",
              "      <td>3</td>\n",
              "      <td>3</td>\n",
              "      <td>4</td>\n",
              "      <td>0</td>\n",
              "      <td>AT</td>\n",
              "    </tr>\n",
              "  </tbody>\n",
              "</table>\n",
              "</div>\n",
              "      <button class=\"colab-df-convert\" onclick=\"convertToInteractive('df-e4aaf74f-5705-40a1-aabc-d58f012ad92d')\"\n",
              "              title=\"Convert this dataframe to an interactive table.\"\n",
              "              style=\"display:none;\">\n",
              "        \n",
              "  <svg xmlns=\"http://www.w3.org/2000/svg\" height=\"24px\"viewBox=\"0 0 24 24\"\n",
              "       width=\"24px\">\n",
              "    <path d=\"M0 0h24v24H0V0z\" fill=\"none\"/>\n",
              "    <path d=\"M18.56 5.44l.94 2.06.94-2.06 2.06-.94-2.06-.94-.94-2.06-.94 2.06-2.06.94zm-11 1L8.5 8.5l.94-2.06 2.06-.94-2.06-.94L8.5 2.5l-.94 2.06-2.06.94zm10 10l.94 2.06.94-2.06 2.06-.94-2.06-.94-.94-2.06-.94 2.06-2.06.94z\"/><path d=\"M17.41 7.96l-1.37-1.37c-.4-.4-.92-.59-1.43-.59-.52 0-1.04.2-1.43.59L10.3 9.45l-7.72 7.72c-.78.78-.78 2.05 0 2.83L4 21.41c.39.39.9.59 1.41.59.51 0 1.02-.2 1.41-.59l7.78-7.78 2.81-2.81c.8-.78.8-2.07 0-2.86zM5.41 20L4 18.59l7.72-7.72 1.47 1.35L5.41 20z\"/>\n",
              "  </svg>\n",
              "      </button>\n",
              "      \n",
              "  <style>\n",
              "    .colab-df-container {\n",
              "      display:flex;\n",
              "      flex-wrap:wrap;\n",
              "      gap: 12px;\n",
              "    }\n",
              "\n",
              "    .colab-df-convert {\n",
              "      background-color: #E8F0FE;\n",
              "      border: none;\n",
              "      border-radius: 50%;\n",
              "      cursor: pointer;\n",
              "      display: none;\n",
              "      fill: #1967D2;\n",
              "      height: 32px;\n",
              "      padding: 0 0 0 0;\n",
              "      width: 32px;\n",
              "    }\n",
              "\n",
              "    .colab-df-convert:hover {\n",
              "      background-color: #E2EBFA;\n",
              "      box-shadow: 0px 1px 2px rgba(60, 64, 67, 0.3), 0px 1px 3px 1px rgba(60, 64, 67, 0.15);\n",
              "      fill: #174EA6;\n",
              "    }\n",
              "\n",
              "    [theme=dark] .colab-df-convert {\n",
              "      background-color: #3B4455;\n",
              "      fill: #D2E3FC;\n",
              "    }\n",
              "\n",
              "    [theme=dark] .colab-df-convert:hover {\n",
              "      background-color: #434B5C;\n",
              "      box-shadow: 0px 1px 3px 1px rgba(0, 0, 0, 0.15);\n",
              "      filter: drop-shadow(0px 1px 2px rgba(0, 0, 0, 0.3));\n",
              "      fill: #FFFFFF;\n",
              "    }\n",
              "  </style>\n",
              "\n",
              "      <script>\n",
              "        const buttonEl =\n",
              "          document.querySelector('#df-e4aaf74f-5705-40a1-aabc-d58f012ad92d button.colab-df-convert');\n",
              "        buttonEl.style.display =\n",
              "          google.colab.kernel.accessAllowed ? 'block' : 'none';\n",
              "\n",
              "        async function convertToInteractive(key) {\n",
              "          const element = document.querySelector('#df-e4aaf74f-5705-40a1-aabc-d58f012ad92d');\n",
              "          const dataTable =\n",
              "            await google.colab.kernel.invokeFunction('convertToInteractive',\n",
              "                                                     [key], {});\n",
              "          if (!dataTable) return;\n",
              "\n",
              "          const docLinkHtml = 'Like what you see? Visit the ' +\n",
              "            '<a target=\"_blank\" href=https://colab.research.google.com/notebooks/data_table.ipynb>data table notebook</a>'\n",
              "            + ' to learn more about interactive tables.';\n",
              "          element.innerHTML = '';\n",
              "          dataTable['output_type'] = 'display_data';\n",
              "          await google.colab.output.renderOutput(dataTable, element);\n",
              "          const docLink = document.createElement('div');\n",
              "          docLink.innerHTML = docLinkHtml;\n",
              "          element.appendChild(docLink);\n",
              "        }\n",
              "      </script>\n",
              "    </div>\n",
              "  </div>\n",
              "  "
            ]
          },
          "metadata": {},
          "execution_count": 179
        }
      ]
    },
    {
      "cell_type": "code",
      "source": [
        "d = {'G': 0,'ZG': 1,'LT': 2,'LT,AT': 3,'AT': 4,'AT,LT': 5}\n",
        "\n",
        "df['Pos.'] = df['Pos.'].map(d)\n",
        "\n",
        "X = df.iloc[:, 1:10].values\n",
        "\n",
        "y = df['Pos.'].values\n",
        "\n",
        "X = df.iloc[:, :2].values"
      ],
      "metadata": {
        "id": "zg_uZ3aqFcVa"
      },
      "execution_count": null,
      "outputs": []
    },
    {
      "cell_type": "code",
      "source": [
        "X_train, X_test, y_train, y_test = train_test_split(X, y, test_size=0.2, shuffle=True, random_state=123, stratify=y)"
      ],
      "metadata": {
        "id": "5KNU90hQFcYg"
      },
      "execution_count": null,
      "outputs": []
    },
    {
      "cell_type": "code",
      "source": [
        "pipe = Pipeline([\n",
        "        ('normalizador', StandardScaler()),\n",
        "        ('redutor_dim', PCA()),\n",
        "        ('classificador', DecisionTreeClassifier(criterion='entropy', max_depth=2, random_state=1))\n",
        "])"
      ],
      "metadata": {
        "id": "GBC8csZcFce4"
      },
      "execution_count": null,
      "outputs": []
    },
    {
      "cell_type": "code",
      "source": [
        "pipe.fit(X_train,y_train)"
      ],
      "metadata": {
        "colab": {
          "base_uri": "https://localhost:8080/"
        },
        "id": "nrijE57ASDET",
        "outputId": "9cc48279-ab6a-4a55-9e56-dfaaa755b771"
      },
      "execution_count": null,
      "outputs": [
        {
          "output_type": "execute_result",
          "data": {
            "text/plain": [
              "Pipeline(steps=[('normalizador', StandardScaler()), ('redutor_dim', PCA()),\n",
              "                ('classificador',\n",
              "                 DecisionTreeClassifier(criterion='entropy', max_depth=2,\n",
              "                                        random_state=1))])"
            ]
          },
          "metadata": {},
          "execution_count": 183
        }
      ]
    },
    {
      "cell_type": "markdown",
      "source": [
        "Usando PCA"
      ],
      "metadata": {
        "id": "Ca5ttqR_OrZB"
      }
    },
    {
      "cell_type": "code",
      "source": [
        "y_test_pred = pipe.predict(X_test)\n",
        "accuracy_score(y_test,y_test_pred)"
      ],
      "metadata": {
        "colab": {
          "base_uri": "https://localhost:8080/"
        },
        "id": "nEvx-sEBOpOn",
        "outputId": "198aea2d-3361-46d5-891d-8ef173569137"
      },
      "execution_count": null,
      "outputs": [
        {
          "output_type": "execute_result",
          "data": {
            "text/plain": [
              "0.5344827586206896"
            ]
          },
          "metadata": {},
          "execution_count": 184
        }
      ]
    },
    {
      "cell_type": "code",
      "source": [
        "y_train_pred = pipe.predict(X_train)\n",
        "accuracy_score(y_train,y_train_pred)"
      ],
      "metadata": {
        "colab": {
          "base_uri": "https://localhost:8080/"
        },
        "id": "ShKJhP9zOpa4",
        "outputId": "1fc09e20-80d8-4e1b-fc06-b5bd18b43263"
      },
      "execution_count": null,
      "outputs": [
        {
          "output_type": "execute_result",
          "data": {
            "text/plain": [
              "0.6331877729257642"
            ]
          },
          "metadata": {},
          "execution_count": 185
        }
      ]
    },
    {
      "cell_type": "markdown",
      "source": [
        "Realizando a busca pelo melhor hiperparametro"
      ],
      "metadata": {
        "id": "dSYffOsCOwEZ"
      }
    },
    {
      "cell_type": "code",
      "source": [
        "param_grid = {\n",
        "    'redutor_dim__n_components': [2, 3, 4, 5, 6, 7, 8, 9, 10],\n",
        "    'classificador__max_depth': [3, 4, 5, 6, 7, 8, 9, 10, 11, 12],\n",
        "    'classificador__criterion': ['gini', 'entropy'],\n",
        "    'classificador__ccp_alpha': [ 0.1, 0.2, 0.3, 0.4, 0.5, 0.6, 0.7, 0.8]\n",
        "}\n",
        "\n",
        "grid = GridSearchCV(pipe, cv=2, n_jobs=1, param_grid= param_grid, scoring='accuracy' )"
      ],
      "metadata": {
        "id": "zr9uKPFQGLev"
      },
      "execution_count": null,
      "outputs": []
    },
    {
      "cell_type": "code",
      "source": [
        "grid.fit(X_train, y_train)\n",
        "\n",
        "print(grid.best_params_)\n",
        "print(grid.best_score_)"
      ],
      "metadata": {
        "colab": {
          "base_uri": "https://localhost:8080/"
        },
        "id": "DRK-MrOKGcwG",
        "outputId": "1e4ccd21-d5f8-4bfa-ef44-d1d67ef1e77b"
      },
      "execution_count": null,
      "outputs": [
        {
          "output_type": "stream",
          "name": "stdout",
          "text": [
            "{'classificador__ccp_alpha': 0.1, 'classificador__criterion': 'entropy', 'classificador__max_depth': 4, 'redutor_dim__n_components': 2}\n",
            "0.681159420289855\n"
          ]
        },
        {
          "output_type": "stream",
          "name": "stderr",
          "text": [
            "/usr/local/lib/python3.7/dist-packages/sklearn/model_selection/_validation.py:372: FitFailedWarning: \n",
            "2560 fits failed out of a total of 2880.\n",
            "The score on these train-test partitions for these parameters will be set to nan.\n",
            "If these failures are not expected, you can try to debug them by setting error_score='raise'.\n",
            "\n",
            "Below are more details about the failures:\n",
            "--------------------------------------------------------------------------------\n",
            "320 fits failed with the following error:\n",
            "Traceback (most recent call last):\n",
            "  File \"/usr/local/lib/python3.7/dist-packages/sklearn/model_selection/_validation.py\", line 680, in _fit_and_score\n",
            "    estimator.fit(X_train, y_train, **fit_params)\n",
            "  File \"/usr/local/lib/python3.7/dist-packages/sklearn/pipeline.py\", line 390, in fit\n",
            "    Xt = self._fit(X, y, **fit_params_steps)\n",
            "  File \"/usr/local/lib/python3.7/dist-packages/sklearn/pipeline.py\", line 355, in _fit\n",
            "    **fit_params_steps[name],\n",
            "  File \"/usr/local/lib/python3.7/dist-packages/joblib/memory.py\", line 349, in __call__\n",
            "    return self.func(*args, **kwargs)\n",
            "  File \"/usr/local/lib/python3.7/dist-packages/sklearn/pipeline.py\", line 893, in _fit_transform_one\n",
            "    res = transformer.fit_transform(X, y, **fit_params)\n",
            "  File \"/usr/local/lib/python3.7/dist-packages/sklearn/decomposition/_pca.py\", line 407, in fit_transform\n",
            "    U, S, Vt = self._fit(X)\n",
            "  File \"/usr/local/lib/python3.7/dist-packages/sklearn/decomposition/_pca.py\", line 457, in _fit\n",
            "    return self._fit_full(X, n_components)\n",
            "  File \"/usr/local/lib/python3.7/dist-packages/sklearn/decomposition/_pca.py\", line 478, in _fit_full\n",
            "    \"svd_solver='full'\" % (n_components, min(n_samples, n_features))\n",
            "ValueError: n_components=3 must be between 0 and min(n_samples, n_features)=2 with svd_solver='full'\n",
            "\n",
            "--------------------------------------------------------------------------------\n",
            "320 fits failed with the following error:\n",
            "Traceback (most recent call last):\n",
            "  File \"/usr/local/lib/python3.7/dist-packages/sklearn/model_selection/_validation.py\", line 680, in _fit_and_score\n",
            "    estimator.fit(X_train, y_train, **fit_params)\n",
            "  File \"/usr/local/lib/python3.7/dist-packages/sklearn/pipeline.py\", line 390, in fit\n",
            "    Xt = self._fit(X, y, **fit_params_steps)\n",
            "  File \"/usr/local/lib/python3.7/dist-packages/sklearn/pipeline.py\", line 355, in _fit\n",
            "    **fit_params_steps[name],\n",
            "  File \"/usr/local/lib/python3.7/dist-packages/joblib/memory.py\", line 349, in __call__\n",
            "    return self.func(*args, **kwargs)\n",
            "  File \"/usr/local/lib/python3.7/dist-packages/sklearn/pipeline.py\", line 893, in _fit_transform_one\n",
            "    res = transformer.fit_transform(X, y, **fit_params)\n",
            "  File \"/usr/local/lib/python3.7/dist-packages/sklearn/decomposition/_pca.py\", line 407, in fit_transform\n",
            "    U, S, Vt = self._fit(X)\n",
            "  File \"/usr/local/lib/python3.7/dist-packages/sklearn/decomposition/_pca.py\", line 457, in _fit\n",
            "    return self._fit_full(X, n_components)\n",
            "  File \"/usr/local/lib/python3.7/dist-packages/sklearn/decomposition/_pca.py\", line 478, in _fit_full\n",
            "    \"svd_solver='full'\" % (n_components, min(n_samples, n_features))\n",
            "ValueError: n_components=4 must be between 0 and min(n_samples, n_features)=2 with svd_solver='full'\n",
            "\n",
            "--------------------------------------------------------------------------------\n",
            "320 fits failed with the following error:\n",
            "Traceback (most recent call last):\n",
            "  File \"/usr/local/lib/python3.7/dist-packages/sklearn/model_selection/_validation.py\", line 680, in _fit_and_score\n",
            "    estimator.fit(X_train, y_train, **fit_params)\n",
            "  File \"/usr/local/lib/python3.7/dist-packages/sklearn/pipeline.py\", line 390, in fit\n",
            "    Xt = self._fit(X, y, **fit_params_steps)\n",
            "  File \"/usr/local/lib/python3.7/dist-packages/sklearn/pipeline.py\", line 355, in _fit\n",
            "    **fit_params_steps[name],\n",
            "  File \"/usr/local/lib/python3.7/dist-packages/joblib/memory.py\", line 349, in __call__\n",
            "    return self.func(*args, **kwargs)\n",
            "  File \"/usr/local/lib/python3.7/dist-packages/sklearn/pipeline.py\", line 893, in _fit_transform_one\n",
            "    res = transformer.fit_transform(X, y, **fit_params)\n",
            "  File \"/usr/local/lib/python3.7/dist-packages/sklearn/decomposition/_pca.py\", line 407, in fit_transform\n",
            "    U, S, Vt = self._fit(X)\n",
            "  File \"/usr/local/lib/python3.7/dist-packages/sklearn/decomposition/_pca.py\", line 457, in _fit\n",
            "    return self._fit_full(X, n_components)\n",
            "  File \"/usr/local/lib/python3.7/dist-packages/sklearn/decomposition/_pca.py\", line 478, in _fit_full\n",
            "    \"svd_solver='full'\" % (n_components, min(n_samples, n_features))\n",
            "ValueError: n_components=5 must be between 0 and min(n_samples, n_features)=2 with svd_solver='full'\n",
            "\n",
            "--------------------------------------------------------------------------------\n",
            "320 fits failed with the following error:\n",
            "Traceback (most recent call last):\n",
            "  File \"/usr/local/lib/python3.7/dist-packages/sklearn/model_selection/_validation.py\", line 680, in _fit_and_score\n",
            "    estimator.fit(X_train, y_train, **fit_params)\n",
            "  File \"/usr/local/lib/python3.7/dist-packages/sklearn/pipeline.py\", line 390, in fit\n",
            "    Xt = self._fit(X, y, **fit_params_steps)\n",
            "  File \"/usr/local/lib/python3.7/dist-packages/sklearn/pipeline.py\", line 355, in _fit\n",
            "    **fit_params_steps[name],\n",
            "  File \"/usr/local/lib/python3.7/dist-packages/joblib/memory.py\", line 349, in __call__\n",
            "    return self.func(*args, **kwargs)\n",
            "  File \"/usr/local/lib/python3.7/dist-packages/sklearn/pipeline.py\", line 893, in _fit_transform_one\n",
            "    res = transformer.fit_transform(X, y, **fit_params)\n",
            "  File \"/usr/local/lib/python3.7/dist-packages/sklearn/decomposition/_pca.py\", line 407, in fit_transform\n",
            "    U, S, Vt = self._fit(X)\n",
            "  File \"/usr/local/lib/python3.7/dist-packages/sklearn/decomposition/_pca.py\", line 457, in _fit\n",
            "    return self._fit_full(X, n_components)\n",
            "  File \"/usr/local/lib/python3.7/dist-packages/sklearn/decomposition/_pca.py\", line 478, in _fit_full\n",
            "    \"svd_solver='full'\" % (n_components, min(n_samples, n_features))\n",
            "ValueError: n_components=6 must be between 0 and min(n_samples, n_features)=2 with svd_solver='full'\n",
            "\n",
            "--------------------------------------------------------------------------------\n",
            "320 fits failed with the following error:\n",
            "Traceback (most recent call last):\n",
            "  File \"/usr/local/lib/python3.7/dist-packages/sklearn/model_selection/_validation.py\", line 680, in _fit_and_score\n",
            "    estimator.fit(X_train, y_train, **fit_params)\n",
            "  File \"/usr/local/lib/python3.7/dist-packages/sklearn/pipeline.py\", line 390, in fit\n",
            "    Xt = self._fit(X, y, **fit_params_steps)\n",
            "  File \"/usr/local/lib/python3.7/dist-packages/sklearn/pipeline.py\", line 355, in _fit\n",
            "    **fit_params_steps[name],\n",
            "  File \"/usr/local/lib/python3.7/dist-packages/joblib/memory.py\", line 349, in __call__\n",
            "    return self.func(*args, **kwargs)\n",
            "  File \"/usr/local/lib/python3.7/dist-packages/sklearn/pipeline.py\", line 893, in _fit_transform_one\n",
            "    res = transformer.fit_transform(X, y, **fit_params)\n",
            "  File \"/usr/local/lib/python3.7/dist-packages/sklearn/decomposition/_pca.py\", line 407, in fit_transform\n",
            "    U, S, Vt = self._fit(X)\n",
            "  File \"/usr/local/lib/python3.7/dist-packages/sklearn/decomposition/_pca.py\", line 457, in _fit\n",
            "    return self._fit_full(X, n_components)\n",
            "  File \"/usr/local/lib/python3.7/dist-packages/sklearn/decomposition/_pca.py\", line 478, in _fit_full\n",
            "    \"svd_solver='full'\" % (n_components, min(n_samples, n_features))\n",
            "ValueError: n_components=7 must be between 0 and min(n_samples, n_features)=2 with svd_solver='full'\n",
            "\n",
            "--------------------------------------------------------------------------------\n",
            "320 fits failed with the following error:\n",
            "Traceback (most recent call last):\n",
            "  File \"/usr/local/lib/python3.7/dist-packages/sklearn/model_selection/_validation.py\", line 680, in _fit_and_score\n",
            "    estimator.fit(X_train, y_train, **fit_params)\n",
            "  File \"/usr/local/lib/python3.7/dist-packages/sklearn/pipeline.py\", line 390, in fit\n",
            "    Xt = self._fit(X, y, **fit_params_steps)\n",
            "  File \"/usr/local/lib/python3.7/dist-packages/sklearn/pipeline.py\", line 355, in _fit\n",
            "    **fit_params_steps[name],\n",
            "  File \"/usr/local/lib/python3.7/dist-packages/joblib/memory.py\", line 349, in __call__\n",
            "    return self.func(*args, **kwargs)\n",
            "  File \"/usr/local/lib/python3.7/dist-packages/sklearn/pipeline.py\", line 893, in _fit_transform_one\n",
            "    res = transformer.fit_transform(X, y, **fit_params)\n",
            "  File \"/usr/local/lib/python3.7/dist-packages/sklearn/decomposition/_pca.py\", line 407, in fit_transform\n",
            "    U, S, Vt = self._fit(X)\n",
            "  File \"/usr/local/lib/python3.7/dist-packages/sklearn/decomposition/_pca.py\", line 457, in _fit\n",
            "    return self._fit_full(X, n_components)\n",
            "  File \"/usr/local/lib/python3.7/dist-packages/sklearn/decomposition/_pca.py\", line 478, in _fit_full\n",
            "    \"svd_solver='full'\" % (n_components, min(n_samples, n_features))\n",
            "ValueError: n_components=8 must be between 0 and min(n_samples, n_features)=2 with svd_solver='full'\n",
            "\n",
            "--------------------------------------------------------------------------------\n",
            "320 fits failed with the following error:\n",
            "Traceback (most recent call last):\n",
            "  File \"/usr/local/lib/python3.7/dist-packages/sklearn/model_selection/_validation.py\", line 680, in _fit_and_score\n",
            "    estimator.fit(X_train, y_train, **fit_params)\n",
            "  File \"/usr/local/lib/python3.7/dist-packages/sklearn/pipeline.py\", line 390, in fit\n",
            "    Xt = self._fit(X, y, **fit_params_steps)\n",
            "  File \"/usr/local/lib/python3.7/dist-packages/sklearn/pipeline.py\", line 355, in _fit\n",
            "    **fit_params_steps[name],\n",
            "  File \"/usr/local/lib/python3.7/dist-packages/joblib/memory.py\", line 349, in __call__\n",
            "    return self.func(*args, **kwargs)\n",
            "  File \"/usr/local/lib/python3.7/dist-packages/sklearn/pipeline.py\", line 893, in _fit_transform_one\n",
            "    res = transformer.fit_transform(X, y, **fit_params)\n",
            "  File \"/usr/local/lib/python3.7/dist-packages/sklearn/decomposition/_pca.py\", line 407, in fit_transform\n",
            "    U, S, Vt = self._fit(X)\n",
            "  File \"/usr/local/lib/python3.7/dist-packages/sklearn/decomposition/_pca.py\", line 457, in _fit\n",
            "    return self._fit_full(X, n_components)\n",
            "  File \"/usr/local/lib/python3.7/dist-packages/sklearn/decomposition/_pca.py\", line 478, in _fit_full\n",
            "    \"svd_solver='full'\" % (n_components, min(n_samples, n_features))\n",
            "ValueError: n_components=9 must be between 0 and min(n_samples, n_features)=2 with svd_solver='full'\n",
            "\n",
            "--------------------------------------------------------------------------------\n",
            "320 fits failed with the following error:\n",
            "Traceback (most recent call last):\n",
            "  File \"/usr/local/lib/python3.7/dist-packages/sklearn/model_selection/_validation.py\", line 680, in _fit_and_score\n",
            "    estimator.fit(X_train, y_train, **fit_params)\n",
            "  File \"/usr/local/lib/python3.7/dist-packages/sklearn/pipeline.py\", line 390, in fit\n",
            "    Xt = self._fit(X, y, **fit_params_steps)\n",
            "  File \"/usr/local/lib/python3.7/dist-packages/sklearn/pipeline.py\", line 355, in _fit\n",
            "    **fit_params_steps[name],\n",
            "  File \"/usr/local/lib/python3.7/dist-packages/joblib/memory.py\", line 349, in __call__\n",
            "    return self.func(*args, **kwargs)\n",
            "  File \"/usr/local/lib/python3.7/dist-packages/sklearn/pipeline.py\", line 893, in _fit_transform_one\n",
            "    res = transformer.fit_transform(X, y, **fit_params)\n",
            "  File \"/usr/local/lib/python3.7/dist-packages/sklearn/decomposition/_pca.py\", line 407, in fit_transform\n",
            "    U, S, Vt = self._fit(X)\n",
            "  File \"/usr/local/lib/python3.7/dist-packages/sklearn/decomposition/_pca.py\", line 457, in _fit\n",
            "    return self._fit_full(X, n_components)\n",
            "  File \"/usr/local/lib/python3.7/dist-packages/sklearn/decomposition/_pca.py\", line 478, in _fit_full\n",
            "    \"svd_solver='full'\" % (n_components, min(n_samples, n_features))\n",
            "ValueError: n_components=10 must be between 0 and min(n_samples, n_features)=2 with svd_solver='full'\n",
            "\n",
            "  warnings.warn(some_fits_failed_message, FitFailedWarning)\n",
            "/usr/local/lib/python3.7/dist-packages/sklearn/model_selection/_search.py:972: UserWarning: One or more of the test scores are non-finite: [0.54153318        nan        nan ...        nan        nan        nan]\n",
            "  category=UserWarning,\n"
          ]
        }
      ]
    },
    {
      "cell_type": "code",
      "source": [
        "print(grid.best_params_)\n",
        "print(grid.best_score_)"
      ],
      "metadata": {
        "colab": {
          "base_uri": "https://localhost:8080/"
        },
        "id": "oI6FTKotScAG",
        "outputId": "cff43cb7-3dea-4091-e7a9-87d071904dbe"
      },
      "execution_count": null,
      "outputs": [
        {
          "output_type": "stream",
          "name": "stdout",
          "text": [
            "{'classificador__ccp_alpha': 0.1, 'classificador__criterion': 'entropy', 'classificador__max_depth': 4, 'redutor_dim__n_components': 2}\n",
            "0.681159420289855\n"
          ]
        }
      ]
    },
    {
      "cell_type": "code",
      "source": [
        "clf= grid.best_estimator_\n",
        "y_pred = clf.predict(X_test)"
      ],
      "metadata": {
        "id": "7ZhT6hbDGc1K"
      },
      "execution_count": null,
      "outputs": []
    },
    {
      "cell_type": "code",
      "source": [
        "accuracy_score(y_test,y_pred)"
      ],
      "metadata": {
        "colab": {
          "base_uri": "https://localhost:8080/"
        },
        "id": "KOkppZytGc3s",
        "outputId": "416ee811-3eda-4578-bb1b-1f6c8d47f535"
      },
      "execution_count": null,
      "outputs": [
        {
          "output_type": "execute_result",
          "data": {
            "text/plain": [
              "0.5862068965517241"
            ]
          },
          "metadata": {},
          "execution_count": 190
        }
      ]
    },
    {
      "cell_type": "markdown",
      "source": [
        "Realizando o Predict em uma unica amostra"
      ],
      "metadata": {
        "id": "lZ_xX9aRO-d4"
      }
    },
    {
      "cell_type": "code",
      "source": [
        "print(np.shape(X_test))\n",
        "print(np.shape(y_test))\n",
        "\n",
        "X_test1 = X_test[1,:]\n",
        "y_test1 = y_test[1]\n",
        "\n",
        "print(np.shape(X_test1))\n",
        "print(np.shape(y_test1))\n",
        "\n",
        "X_test1 = np.reshape(X_test1,(1,-1))\n",
        "y_test1 = np.reshape(y_test1,(1))\n",
        "\n",
        "print(np.shape(X_test1))\n",
        "print(np.shape(y_test1))"
      ],
      "metadata": {
        "colab": {
          "base_uri": "https://localhost:8080/"
        },
        "id": "8UZneekwGdB-",
        "outputId": "3b320119-b48e-4ccf-aef2-7e58fe289463"
      },
      "execution_count": null,
      "outputs": [
        {
          "output_type": "stream",
          "name": "stdout",
          "text": [
            "(58, 2)\n",
            "(58,)\n",
            "(2,)\n",
            "()\n",
            "(1, 2)\n",
            "(1,)\n"
          ]
        }
      ]
    },
    {
      "cell_type": "code",
      "source": [
        "y_test1_pred  = grid.predict(X_test1)\n",
        "\n",
        "y_test1_pred"
      ],
      "metadata": {
        "colab": {
          "base_uri": "https://localhost:8080/"
        },
        "id": "97V6BxqoGdEp",
        "outputId": "945d389e-ccbe-4ad7-d66a-050614de6205"
      },
      "execution_count": null,
      "outputs": [
        {
          "output_type": "execute_result",
          "data": {
            "text/plain": [
              "array([2])"
            ]
          },
          "metadata": {},
          "execution_count": 192
        }
      ]
    },
    {
      "cell_type": "code",
      "source": [
        "accuracy_score(y_test1, y_test1_pred)"
      ],
      "metadata": {
        "colab": {
          "base_uri": "https://localhost:8080/"
        },
        "id": "SmsZreGGGLiA",
        "outputId": "32647a1a-1b2c-41bd-e0a2-6039ee9349ee"
      },
      "execution_count": null,
      "outputs": [
        {
          "output_type": "execute_result",
          "data": {
            "text/plain": [
              "0.0"
            ]
          },
          "metadata": {},
          "execution_count": 193
        }
      ]
    },
    {
      "cell_type": "code",
      "source": [
        "X_test1"
      ],
      "metadata": {
        "colab": {
          "base_uri": "https://localhost:8080/"
        },
        "id": "RIvZduQkGyUD",
        "outputId": "ed041f60-3bdf-4761-bebd-162e308a586a"
      },
      "execution_count": null,
      "outputs": [
        {
          "output_type": "execute_result",
          "data": {
            "text/plain": [
              "array([[  86, 1992]])"
            ]
          },
          "metadata": {},
          "execution_count": 194
        }
      ]
    },
    {
      "cell_type": "code",
      "source": [
        "print(np.shape(X_test))\n",
        "print(np.shape(y_test))\n",
        "\n",
        "X_test2 = X_test[2,:]\n",
        "y_test2 = y_test[2]\n",
        "\n",
        "print(np.shape(X_test2))\n",
        "print(np.shape(y_test2))\n",
        "\n",
        "X_test2 = np.reshape(X_test2,(1,-1))\n",
        "y_test2 = np.reshape(y_test2,(1))\n",
        "\n",
        "print(np.shape(X_test2))\n",
        "print(np.shape(y_test2))"
      ],
      "metadata": {
        "colab": {
          "base_uri": "https://localhost:8080/"
        },
        "id": "g-aS1DY3Gyh3",
        "outputId": "adc8b6b2-6cda-42d0-dd0a-414a4845f0ab"
      },
      "execution_count": null,
      "outputs": [
        {
          "output_type": "stream",
          "name": "stdout",
          "text": [
            "(58, 2)\n",
            "(58,)\n",
            "(2,)\n",
            "()\n",
            "(1, 2)\n",
            "(1,)\n"
          ]
        }
      ]
    },
    {
      "cell_type": "code",
      "source": [
        "X_test2"
      ],
      "metadata": {
        "colab": {
          "base_uri": "https://localhost:8080/"
        },
        "id": "VqGHIPdiPfpz",
        "outputId": "5bbe082f-5e9f-4871-c753-e21d63b2c02b"
      },
      "execution_count": null,
      "outputs": [
        {
          "output_type": "execute_result",
          "data": {
            "text/plain": [
              "array([[ 228, 1997]])"
            ]
          },
          "metadata": {},
          "execution_count": 196
        }
      ]
    },
    {
      "cell_type": "code",
      "source": [
        "y_test2_pred  = grid.predict(X_test2)\n",
        "\n",
        "y_test2_pred"
      ],
      "metadata": {
        "colab": {
          "base_uri": "https://localhost:8080/"
        },
        "id": "3NtzHQ5hGym9",
        "outputId": "7d7b0434-4417-4141-9747-d0c5d2b5f904"
      },
      "execution_count": null,
      "outputs": [
        {
          "output_type": "execute_result",
          "data": {
            "text/plain": [
              "array([1])"
            ]
          },
          "metadata": {},
          "execution_count": 197
        }
      ]
    },
    {
      "cell_type": "code",
      "source": [
        "accuracy_score(y_test2, y_test2_pred)"
      ],
      "metadata": {
        "colab": {
          "base_uri": "https://localhost:8080/"
        },
        "id": "R_qte9awGyp3",
        "outputId": "93887a24-876f-4bf4-f22e-4df2ea15287f"
      },
      "execution_count": null,
      "outputs": [
        {
          "output_type": "execute_result",
          "data": {
            "text/plain": [
              "1.0"
            ]
          },
          "metadata": {},
          "execution_count": 198
        }
      ]
    },
    {
      "cell_type": "code",
      "source": [
        "X_test2"
      ],
      "metadata": {
        "colab": {
          "base_uri": "https://localhost:8080/"
        },
        "id": "vVf-COa2Gysm",
        "outputId": "c21a44fe-0b15-4674-abcf-087843faccaf"
      },
      "execution_count": null,
      "outputs": [
        {
          "output_type": "execute_result",
          "data": {
            "text/plain": [
              "array([[ 228, 1997]])"
            ]
          },
          "metadata": {},
          "execution_count": 199
        }
      ]
    },
    {
      "cell_type": "code",
      "source": [
        "import matplotlib.pyplot as plt\n",
        "from sklearn.tree import plot_tree\n",
        "\n",
        "dtc = DecisionTreeClassifier(criterion='entropy', max_depth=2, random_state=1)\n",
        "dtc.fit(X_train, y_train)\n",
        "\n",
        "plt.figure(figsize=(12, 7))\n",
        "\n",
        "plot_tree(dtc, filled=True) \n",
        "\n",
        "plt.show()"
      ],
      "metadata": {
        "colab": {
          "base_uri": "https://localhost:8080/",
          "height": 411
        },
        "id": "9lOp2Yv8G62N",
        "outputId": "4e35252b-7d7b-49ee-8be0-e1be61705c75"
      },
      "execution_count": null,
      "outputs": [
        {
          "output_type": "display_data",
          "data": {
            "text/plain": [
              "<Figure size 864x504 with 1 Axes>"
            ],
            "image/png": "[encoded data removed]"
          },
          "metadata": {
            "needs_background": "light"
          }
        }
      ]
    }
  ]
}