{
  "nbformat": 4,
  "nbformat_minor": 0,
  "metadata": {
    "colab": {
      "name": "atividade3",
      "provenance": [],
      "authorship_tag": "ABX9TyMSWA+U4LTbCWmFEkSr8XfQ",
      "include_colab_link": true
    },
    "kernelspec": {
      "name": "python3",
      "display_name": "Python 3"
    },
    "language_info": {
      "name": "python"
    }
  },
  "cells": [
    {
      "cell_type": "markdown",
      "metadata": {
        "id": "view-in-github",
        "colab_type": "text"
      },
      "source": [
        "<a href=\"https://colab.research.google.com/github/edineim/machine_learning/blob/main/atividade3.ipynb\" target=\"_parent\"><img src=\"https://colab.research.google.com/assets/colab-badge.svg\" alt=\"Open In Colab\"/></a>"
      ]
    },
    {
      "cell_type": "markdown",
      "source": [
        "Implementação com scikit learn"
      ],
      "metadata": {
        "id": "D49VdwF7Brw_"
      }
    },
    {
      "cell_type": "code",
      "source": [
        "from sklearn.neighbors import NearestCentroid\n",
        "import numpy as np\n",
        "\n",
        "X_train = np.array([[-1, -1], [-2, -1], [-3, -2], [1, 1], [2, 1], [3, 2]])\n",
        "y_train = np.array([0, 0, 0, 1, 1, 1])\n",
        "\n",
        "X_test = np.array([[-1, -2], [0, -1], [-3, -3], [2, 2],  [1, 2]])\n",
        "y_test = np.array([0, 0, 0, 1, 1])"
      ],
      "metadata": {
        "id": "zPsHurZcBsf0"
      },
      "execution_count": null,
      "outputs": []
    },
    {
      "cell_type": "code",
      "source": [
        "cn_model = NearestCentroid(metric='euclidean')\n",
        "cn_model.fit(X_train, y_train)\n",
        "\n",
        "cn_model.centroids_"
      ],
      "metadata": {
        "colab": {
          "base_uri": "https://localhost:8080/"
        },
        "id": "pUNDed4h_O1e",
        "outputId": "0f349f34-fc75-4e23-aa11-fdb8900b8a55"
      },
      "execution_count": null,
      "outputs": [
        {
          "output_type": "execute_result",
          "data": {
            "text/plain": [
              "array([[-2.        , -1.33333333],\n",
              "       [ 2.        ,  1.33333333]])"
            ]
          },
          "metadata": {},
          "execution_count": 18
        }
      ]
    },
    {
      "cell_type": "code",
      "source": [
        "import matplotlib.pyplot as plt\n",
        "\n",
        "plt.scatter(X_train[y_train==0, 0], X_train[y_train==0, 1], c='r')\n",
        "plt.scatter(X_train[y_train==1, 0], X_train[y_train==1, 1], c='g')\n",
        "\n",
        "plt.scatter(cn_model.centroids_[:,0], cn_model.centroids_[:,1], s=200, marker='*', c='k')"
      ],
      "metadata": {
        "colab": {
          "base_uri": "https://localhost:8080/",
          "height": 282
        },
        "id": "TpYcMaD6_PWA",
        "outputId": "30f52134-fb98-4789-a422-e6cf2d2361c4"
      },
      "execution_count": null,
      "outputs": [
        {
          "output_type": "execute_result",
          "data": {
            "text/plain": [
              "<matplotlib.collections.PathCollection at 0x7f4c49083bd0>"
            ]
          },
          "metadata": {},
          "execution_count": 19
        },
        {
          "output_type": "display_data",
          "data": {
            "text/plain": [
              "<Figure size 432x288 with 1 Axes>"
            ],
            "image/png": "[encoded data removed]"
          },
          "metadata": {
            "needs_background": "light"
          }
        }
      ]
    },
    {
      "cell_type": "code",
      "source": [
        "y_pred = cn_model.predict(X_test)\n",
        "print(y_pred)\n",
        "print(y_test)"
      ],
      "metadata": {
        "colab": {
          "base_uri": "https://localhost:8080/"
        },
        "id": "GU0AKfEA_TZw",
        "outputId": "8f04f2ce-31bc-4694-f10d-6032272dfca4"
      },
      "execution_count": null,
      "outputs": [
        {
          "output_type": "stream",
          "name": "stdout",
          "text": [
            "[0 0 0 1 1]\n",
            "[0 0 0 1 1]\n"
          ]
        }
      ]
    },
    {
      "cell_type": "code",
      "source": [
        "from sklearn.metrics import accuracy_score\n",
        "\n",
        "accuracy_score(y_test, y_pred)"
      ],
      "metadata": {
        "colab": {
          "base_uri": "https://localhost:8080/"
        },
        "id": "YY3-MjTU_2pK",
        "outputId": "4ae8f79d-f2c7-4562-b3e0-342e773e06b6"
      },
      "execution_count": null,
      "outputs": [
        {
          "output_type": "execute_result",
          "data": {
            "text/plain": [
              "1.0"
            ]
          },
          "metadata": {},
          "execution_count": 21
        }
      ]
    },
    {
      "cell_type": "markdown",
      "source": [
        "Implementação com Scratch"
      ],
      "metadata": {
        "id": "P-ApeI9dB2bg"
      }
    },
    {
      "cell_type": "code",
      "source": [
        "from scipy.spatial import distance\n",
        "class NearestCentroidScratch():\n",
        "  def __init__(self, metric='eucledian'):\n",
        "    self.metric = metric\n",
        "    self.centroids_ = np.array([])\n",
        "    self.target_ = np.array([])\n",
        "  \n",
        "  def fit(self, X, y):\n",
        "    self.target_ = np.unique(y)\n",
        "    c = [np.mean(X[y==i], axis=0) for i in self.target_]\n",
        "    self.centroids_ = np.vstack((c))\n",
        "\n",
        "  def predict(self, X): \n",
        "    self.predict_ = np.array([], dtype=int)   \n",
        "    for i in X:                                               \n",
        "      dist = []\n",
        "      [dist.append(distance.euclidean(i, self.centroids_[j,:])) for j in range(len(self.target_))] \n",
        "      self.predict_ = np.hstack((self.predict_, self.target_[dist.index(np.min(dist))])) \n",
        "    return self.predict_\n",
        "\n",
        "  def score(self, x,y):\n",
        "    m1 = np.sum(y)\n",
        "    m2 = np.sum(x)\n",
        "    self.score_ = m1/m2\n",
        "    return self.score_"
      ],
      "metadata": {
        "id": "A_LCP-t2BbnP"
      },
      "execution_count": null,
      "outputs": []
    },
    {
      "cell_type": "code",
      "source": [
        "import numpy as np\n",
        "\n",
        "X_train = np.array([[-1, -1], [-2, -1], [-3, -2], [1, 1], [2, 1], [3, 2]])\n",
        "y_train = np.array([1, 1, 1, 2, 2, 2])\n",
        "\n",
        "X_test = np.array([[-1, -2], [0, -1], [-3, -3], [2, 2],  [1, 2]])\n",
        "y_test = np.array([1, 1, 1, 2, 2])"
      ],
      "metadata": {
        "id": "fS5kkF0YBbpy"
      },
      "execution_count": null,
      "outputs": []
    },
    {
      "cell_type": "code",
      "source": [
        "clf = NearestCentroidScratch()\n",
        "clf.fit(X_train, y_train)\n",
        "\n",
        "clf.centroids_"
      ],
      "metadata": {
        "colab": {
          "base_uri": "https://localhost:8080/"
        },
        "id": "J30R0t_cBbsZ",
        "outputId": "16c9ae25-57b1-4619-90a6-e06c6e38b55d"
      },
      "execution_count": null,
      "outputs": [
        {
          "output_type": "execute_result",
          "data": {
            "text/plain": [
              "array([[-2.        , -1.33333333],\n",
              "       [ 2.        ,  1.33333333]])"
            ]
          },
          "metadata": {},
          "execution_count": 24
        }
      ]
    },
    {
      "cell_type": "code",
      "source": [
        "import matplotlib.pyplot as plt\n",
        "\n",
        "plt.scatter(X_train[y_train==1, 0], X_train[y_train==1, 1], c='r')\n",
        "plt.scatter(X_train[y_train==2, 0], X_train[y_train==2, 1], c='g')\n",
        "\n",
        "plt.scatter(clf.centroids_[:,0], clf.centroids_ [:,1], s=200, marker='*', c='k')"
      ],
      "metadata": {
        "colab": {
          "base_uri": "https://localhost:8080/",
          "height": 282
        },
        "id": "l9YShXbnBhH6",
        "outputId": "e079b3f6-b094-4d1d-dce0-112a45fc8fb8"
      },
      "execution_count": null,
      "outputs": [
        {
          "output_type": "execute_result",
          "data": {
            "text/plain": [
              "<matplotlib.collections.PathCollection at 0x7f4c49098410>"
            ]
          },
          "metadata": {},
          "execution_count": 25
        },
        {
          "output_type": "display_data",
          "data": {
            "text/plain": [
              "<Figure size 432x288 with 1 Axes>"
            ],
            "image/png": "[encoded data removed]"
          },
          "metadata": {
            "needs_background": "light"
          }
        }
      ]
    },
    {
      "cell_type": "code",
      "source": [
        "y_pred = clf.predict(X_test)\n",
        "print(y_pred)\n",
        "print(y_test)"
      ],
      "metadata": {
        "colab": {
          "base_uri": "https://localhost:8080/"
        },
        "id": "aQkPvGpbBhNE",
        "outputId": "b407fa6e-91df-4a9f-9aee-e3a1c9bb0e52"
      },
      "execution_count": null,
      "outputs": [
        {
          "output_type": "stream",
          "name": "stdout",
          "text": [
            "[1 1 1 2 2]\n",
            "[1 1 1 2 2]\n"
          ]
        }
      ]
    },
    {
      "cell_type": "code",
      "source": [
        "clf.score(y_test, y_pred)"
      ],
      "metadata": {
        "colab": {
          "base_uri": "https://localhost:8080/"
        },
        "id": "ALQx0UnfBjH3",
        "outputId": "529437fe-e463-417d-d68d-df1340c1877c"
      },
      "execution_count": null,
      "outputs": [
        {
          "output_type": "execute_result",
          "data": {
            "text/plain": [
              "1.0"
            ]
          },
          "metadata": {},
          "execution_count": 27
        }
      ]
    }
  ]
}